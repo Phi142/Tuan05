{
  "nbformat": 4,
  "nbformat_minor": 0,
  "metadata": {
    "colab": {
      "provenance": [],
      "authorship_tag": "ABX9TyNQuQdpdgeEq3OdQL5tUrWS",
      "include_colab_link": true
    },
    "kernelspec": {
      "name": "python3",
      "display_name": "Python 3"
    },
    "language_info": {
      "name": "python"
    }
  },
  "cells": [
    {
      "cell_type": "markdown",
      "metadata": {
        "id": "view-in-github",
        "colab_type": "text"
      },
      "source": [
        "<a href=\"https://colab.research.google.com/github/Phi142/Tuan05/blob/main/Tu%E1%BA%A7n05.ipynb\" target=\"_parent\"><img src=\"https://colab.research.google.com/assets/colab-badge.svg\" alt=\"Open In Colab\"/></a>"
      ]
    },
    {
      "cell_type": "code",
      "execution_count": null,
      "metadata": {
        "id": "P6ORBjnEU4Q9"
      },
      "outputs": [],
      "source": [
        "pip install scikit-fuzzy\n"
      ]
    },
    {
      "cell_type": "code",
      "source": [
        "import numpy as np\n",
        "import skfuzzy as fuzz\n",
        "from skfuzzy import  control as ctrl\n",
        "\n",
        "\n",
        "#tạo biến và xác định khoảng giá trị\n",
        "setpoint = ctrl.Antecedent(np.arange(0,40,1),'setpoint')\n",
        "sensor = ctrl.Antecedent(np.arange(-10,65,1),'sensor')\n",
        "PWM = ctrl.Consequent(np.arange(0,270,1),'PWM')\n",
        "\n",
        "#đồ thị Setpoint trên bảng\n",
        "setpoint['short']= fuzz.trimf(setpoint.universe,[12,12,22])\n",
        "setpoint['medium']= fuzz.trimf(setpoint.universe,[12,22,32])\n",
        "setpoint['hight']= fuzz.trimf(setpoint.universe,[22,32,32])\n",
        "\n",
        "#show đồ thị setpoint\n",
        "setpoint.view()\n",
        "\n",
        "#đồ thị sensor gồm 5 giá trị\n",
        "sensor['VS']= fuzz.trimf(sensor.universe,[-3,-3,31.5])\n",
        "sensor['S']= fuzz.trimf(sensor.universe,[-3,15.75,31.5])\n",
        "sensor['M']= fuzz.trimf(sensor.universe,[15.75,31.5,47.25])\n",
        "sensor['H']= fuzz.trimf(sensor.universe,[31.5,47.25,60])\n",
        "sensor['VH']= fuzz.trimf(sensor.universe,[31.5,60,60])\n",
        "\n",
        "#show đồ thị sensor\n",
        "sensor.view()\n",
        "\n",
        "#đồ thị PWM\n",
        "PWM['YẾU']= fuzz.trimf(PWM.universe,[0,0,255/2])\n",
        "PWM['HƠI YẾU']= fuzz.trimf(PWM.universe,[0,255/4,255/2])\n",
        "PWM['TÀM TẠM']= fuzz.trimf(PWM.universe,[0,255/2,255])\n",
        "PWM['HƠI MẠNH']= fuzz.trimf(PWM.universe,[255/2,200,255])\n",
        "PWM['QUÁ MẠNH']= fuzz.trimf(PWM.universe,[255/2,255,255])\n",
        "\n",
        "#show đồ thị\n",
        "PWM.view()\n",
        "\n",
        "#tạo luật cho các trường hợp\n",
        "#ta sẽ có 15 luật\n",
        "rule1 = ctrl.Rule(setpoint['short']&sensor['VS'],PWM['YẾU'])\n",
        "rule2 = ctrl.Rule(setpoint['short']&sensor['S'],PWM['HƠI YẾU'])\n",
        "rule3 = ctrl.Rule(setpoint['short']&sensor['M'],PWM['HƠI YẾU'])\n",
        "rule4 = ctrl.Rule(setpoint['short']&sensor['H'],PWM['TÀM TẠM'])\n",
        "rule5 = ctrl.Rule(setpoint['short']&sensor['VH'],PWM['TÀM TẠM'])\n",
        "\n",
        "rule6 = ctrl.Rule(setpoint['medium']&sensor['VS'],PWM['HƠI YẾU'])\n",
        "rule7 = ctrl.Rule(setpoint['medium']&sensor['S'],PWM['TÀM TẠM'])\n",
        "rule8 = ctrl.Rule(setpoint['medium']&sensor['M'],PWM['HƠI MẠNH'])\n",
        "rule9 = ctrl.Rule(setpoint['medium']&sensor['H'],PWM['HƠI MẠNH'])\n",
        "rule10 = ctrl.Rule(setpoint['medium']&sensor['VH'],PWM['QUÁ MẠNH'])\n",
        "\n",
        "rule11 = ctrl.Rule(setpoint['hight']&sensor['VS'],PWM['TÀM TẠM'])\n",
        "rule12  = ctrl.Rule(setpoint['hight']&sensor['S'],PWM['HƠI MẠNH'])\n",
        "rule13 = ctrl.Rule(setpoint['hight']&sensor['M'],PWM['HƠI MẠNH'])\n",
        "rule14 = ctrl.Rule(setpoint['hight']&sensor['H'],PWM['QUÁ MẠNH'])\n",
        "rule15 = ctrl.Rule(setpoint['hight']&sensor['VH'],PWM['QUÁ MẠNH'])\n",
        "\n",
        "#đưa all luật vào\n",
        "PWMing_ctrl = ctrl.ControlSystem([rule1,rule2,rule3,rule4,rule5,rule6,rule7,rule8,rule9,rule10,rule11,rule12,rule13,rule14,rule15])\n",
        "#học luâth\n",
        "PWMing = ctrl.ControlSystemSimulation(PWMing_ctrl)\n",
        "PWMing.input['setpoint']=20        #giá trị đọc từ cảm biến\n",
        "PWMing.input['sensor'] = 50       #giá trị đọc từ cảm biến\n",
        "\n",
        "PWMing.compute()\n",
        "#xuất ra màn hình\n",
        "print(PWMing.output['PWM'])\n",
        "PWM.view(sim = PWMing)\n"
      ],
      "metadata": {
        "id": "6_BXl9bkVHpK"
      },
      "execution_count": null,
      "outputs": []
    },
    {
      "cell_type": "code",
      "source": [],
      "metadata": {
        "id": "OksZ8qslVVUO"
      },
      "execution_count": null,
      "outputs": []
    }
  ]
}